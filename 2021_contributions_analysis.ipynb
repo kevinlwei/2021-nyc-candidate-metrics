{
 "cells": [
  {
   "cell_type": "markdown",
   "metadata": {},
   "source": [
    "# 2021 NYC Municipal Elections Contributions/Expenditures Analysis"
   ]
  },
  {
   "cell_type": "markdown",
   "metadata": {},
   "source": [
    "## Authorship\n",
    "\n",
    "Hi 👋! This notebook was built by me. You can find me online at kevinlwei.com or on Twitter at @kevinlwei\n",
    "\n",
    "Feature requests, project collabs, want to get in touch? Shoot me an email at hi@kevinlwei.com"
   ]
  },
  {
   "cell_type": "markdown",
   "metadata": {},
   "source": [
    "## License\n",
    "\n",
    "This notebook is provided to you under the MIT License: https://opensource.org/licenses/MIT\n",
    "\n",
    "Copyright (c) 2020 Kevin Wei\n",
    "\n",
    "Permission is hereby granted, free of charge, to any person obtaining a copy\n",
    "of this software and associated documentation files (the \"Software\"), to deal\n",
    "in the Software without restriction, including without limitation the rights\n",
    "to use, copy, modify, merge, publish, distribute, sublicense, and/or sell\n",
    "copies of the Software, and to permit persons to whom the Software is\n",
    "furnished to do so, subject to the following conditions:\n",
    "\n",
    "The above copyright notice and this permission notice shall be included in all\n",
    "copies or substantial portions of the Software.\n",
    "\n",
    "THE SOFTWARE IS PROVIDED \"AS IS\", WITHOUT WARRANTY OF ANY KIND, EXPRESS OR\n",
    "IMPLIED, INCLUDING BUT NOT LIMITED TO THE WARRANTIES OF MERCHANTABILITY,\n",
    "FITNESS FOR A PARTICULAR PURPOSE AND NONINFRINGEMENT. IN NO EVENT SHALL THE\n",
    "AUTHORS OR COPYRIGHT HOLDERS BE LIABLE FOR ANY CLAIM, DAMAGES OR OTHER\n",
    "LIABILITY, WHETHER IN AN ACTION OF CONTRACT, TORT OR OTHERWISE, ARISING FROM,\n",
    "OUT OF OR IN CONNECTION WITH THE SOFTWARE OR THE USE OR OTHER DEALINGS IN THE\n",
    "SOFTWARE."
   ]
  },
  {
   "cell_type": "markdown",
   "metadata": {},
   "source": [
    "## Import Data\n",
    "\n",
    "<b>Data Sources</b>: <br>\n",
    "CFB contribution, expenditure, and metrics data available at: http://www.nyccfb.info/follow-the-money/data-library/ <br>\n",
    "CFB list of 2021 NYC candidates available at: https://www.nyccfb.info/follow-the-money/candidates/ <br>\n",
    "Doing Business database available at: https://www1.nyc.gov/dbnyc/index.htm <br>\n",
    "NYSBOE Voterfile is available at: https://www.elections.ny.gov/FoilRequests.html\n",
    "\n",
    "Note: metrics data has a time lag, so we don't use it for anything here"
   ]
  },
  {
   "cell_type": "code",
   "execution_count": 1,
   "metadata": {},
   "outputs": [],
   "source": [
    "# import some packages\n",
    "import pandas as pd\n",
    "import numpy as np\n",
    "import operator"
   ]
  },
  {
   "cell_type": "code",
   "execution_count": 2,
   "metadata": {},
   "outputs": [],
   "source": [
    "# change viewing options to show entire dataframe when applicable\n",
    "pd.set_option('display.max_rows', 2000)\n",
    "pd.set_option('display.max_columns', 200)"
   ]
  },
  {
   "cell_type": "code",
   "execution_count": 3,
   "metadata": {},
   "outputs": [
    {
     "name": "stderr",
     "output_type": "stream",
     "text": [
      "/usr/local/Cellar/jupyterlab/2.1.5/libexec/lib/python3.8/site-packages/IPython/core/interactiveshell.py:3062: DtypeWarning: Columns (47) have mixed types.Specify dtype option on import or set low_memory=False.\n",
      "  has_raised = await self.run_ast_nodes(code_ast.body, cell_name,\n"
     ]
    }
   ],
   "source": [
    "# import data from CSV\n",
    "contributions = pd.read_csv('CFB_All_Contributions.csv', sep=',', dtype={'RECIPID':str}, parse_dates=['DATE','REFUNDDATE'])\n",
    "expenditures = pd.read_csv('CFB_All_Expenditures.csv', sep=',')\n",
    "candidates = pd.read_csv('CFB_Candidate_List.csv', sep=',')\n",
    "cfb_metrics = pd.read_csv('CFB_Financial_Analysis.csv', sep=',')\n",
    "dbdb = pd.read_csv('DBDB_Download.csv', sep=',', parse_dates=['Doing Business Start Date', 'Run Date'])"
   ]
  },
  {
   "cell_type": "code",
   "execution_count": 4,
   "metadata": {},
   "outputs": [],
   "source": [
    "# import NYS State voterfile. Separate cell due to long runtime\n",
    "# not currently in use; waiting on CFB to see if I can get address data for 2021 contributors\n",
    "#voters = pd.read_csv('DemWorBlk.txt', sep=',', encoding='unicode_escape', names=['ln', 'fn', 'mn', 'suffix', 'r_add', 'r_halfcode', 'r_apt', 'r_predir', 'r_street', 'r_city', 'r_zip5', 'r_zip4', 'mail_add1', 'mail_add2', 'mail_add3', 'mail_add4', 'dob', 'gender', 'enrollment', 'other_party', 'county', 'ed', 'ld', 'towncity', 'ward', 'cd', 'sd', 'ad', 'last_vote_date', 'prev_year_voted', 'prev_county', 'prev_address', 'prev_name', 'county_vr_id', 'reg_date', 'vr_source', 'id_req', 'id_met', 'status', 'status_reason', 'inact_date', 'purge_date', 'sboe_id', 'voter_history'])"
   ]
  },
  {
   "cell_type": "markdown",
   "metadata": {},
   "source": [
    "## Data Pre-Processing"
   ]
  },
  {
   "cell_type": "markdown",
   "metadata": {},
   "source": [
    "### Functions for Data Pre-Processing"
   ]
  },
  {
   "cell_type": "code",
   "execution_count": 5,
   "metadata": {},
   "outputs": [],
   "source": [
    "# function to trim every cell in string fields; to be applied before any string field dtype conversions\n",
    "def trim_all(dfs):\n",
    "    for i in dfs:\n",
    "        i[i.select_dtypes(['object']).columns] = i.select_dtypes(['object']).apply(lambda x: x.str.strip())"
   ]
  },
  {
   "cell_type": "code",
   "execution_count": 6,
   "metadata": {},
   "outputs": [],
   "source": [
    "# generate zip5 (int field) from zip column (string field)\n",
    "def get_zip5(s):\n",
    "    zip5 = s\n",
    "    \n",
    "    #eliminate zip4 or other appended data to zip (some of data is in format #####-###, which is invalid)\n",
    "    if s.find('-') > -1:\n",
    "        zip5 = s[:s.find('-')]\n",
    "        \n",
    "    #drops non-numeric values and blank zips, else int-formatted zip5\n",
    "    if not zip5.isnumeric() or len(zip5) == 0:\n",
    "        return np.nan\n",
    "    else:\n",
    "        return int(zip5)"
   ]
  },
  {
   "cell_type": "code",
   "execution_count": 7,
   "metadata": {},
   "outputs": [],
   "source": [
    "# add column to candidate df with IDs\n",
    "# IDs are also in the metrics table, but that table currently lags a filing period due to process time by CFB\n",
    "def get_candidate_ids(check_ids=False):\n",
    "    for i, row in candidates.iterrows():\n",
    "        id_frequency = contributions[contributions['RECIPNAME'] == row['Candidate']]['RECIPID'].value_counts()\n",
    "        \n",
    "        #Print candidates with no ID or with more than 1 ID\n",
    "        if check_ids == True and ((len(id_frequency) > 1) or len(id_frequency) == 0):\n",
    "            print(\"-------------------\")\n",
    "            print(len(id_frequency))\n",
    "            print(id_frequency)\n",
    "            print(row['Candidate'])\n",
    "            print(\"-------------------\")\n",
    "        \n",
    "        if len(id_frequency) == 0:\n",
    "            candidates.loc[candidates.index[candidates['Candidate'] == row['Candidate']],'ID'] = np.nan\n",
    "        else:  \n",
    "            candidates.loc[candidates.index[candidates['Candidate'] == row['Candidate']],'ID'] = str(max(id_frequency.iteritems(), key = operator.itemgetter(1))[0])"
   ]
  },
  {
   "cell_type": "code",
   "execution_count": 8,
   "metadata": {},
   "outputs": [],
   "source": [
    "# processes special campaign cases from the candidate list (small campaigns, terminated campaigns)\n",
    "def process_special_campaigns():\n",
    "    candidates['Small Campaign'] = False\n",
    "    candidates['Terminated'] = False\n",
    "    \n",
    "    for i, row in candidates.iterrows():\n",
    "        if '*' in row['Candidate']:\n",
    "            candidates.loc[i, 'Terminated'] = True\n",
    "            candidates.loc[i, 'Candidate'] = candidates.loc[i, 'Candidate'].replace('*', '')\n",
    "        if '§' in row['Candidate']:\n",
    "            candidates.loc[i, 'Small Campaign'] = True\n",
    "            candidates.loc[i, 'Candidate'] = candidates.loc[i, 'Candidate'].replace('§', '')"
   ]
  },
  {
   "cell_type": "markdown",
   "metadata": {},
   "source": [
    "### Pre-Processing Data"
   ]
  },
  {
   "cell_type": "code",
   "execution_count": 9,
   "metadata": {
    "scrolled": true
   },
   "outputs": [],
   "source": [
    "# trim all data, process special campaign cases, and append candidate IDs to the candidate table\n",
    "trim_all([contributions, expenditures, candidates, cfb_metrics])\n",
    "process_special_campaigns()\n",
    "get_candidate_ids()"
   ]
  },
  {
   "cell_type": "code",
   "execution_count": 10,
   "metadata": {},
   "outputs": [],
   "source": [
    "# drop campaigns that have received no contributions from the candidates table (i.e., id = NaN)\n",
    "candidates.dropna(subset=['ID'], inplace=True)"
   ]
  },
  {
   "cell_type": "code",
   "execution_count": 11,
   "metadata": {},
   "outputs": [],
   "source": [
    "# standardize employer names/addresses, names, intermediary names/addresses"
   ]
  },
  {
   "cell_type": "code",
   "execution_count": 12,
   "metadata": {},
   "outputs": [],
   "source": [
    "# match contributors to voterfile"
   ]
  },
  {
   "cell_type": "code",
   "execution_count": 13,
   "metadata": {},
   "outputs": [],
   "source": [
    "# append doing business data to contributor list\n",
    "# note: only individual contributors tested"
   ]
  },
  {
   "cell_type": "markdown",
   "metadata": {},
   "source": [
    "## Data Analysis"
   ]
  },
  {
   "cell_type": "markdown",
   "metadata": {},
   "source": [
    "### Functions for Data Analysis"
   ]
  },
  {
   "cell_type": "code",
   "execution_count": 14,
   "metadata": {},
   "outputs": [],
   "source": [
    "# returns all rows of contributions for a particular candidate from the contributions table\n",
    "# excludes refunds by default\n",
    "def get_contributions(id, refunds=True):\n",
    "    if id not in candidates['ID'].values:\n",
    "        raise ValueError(\"Not a valid candidate ID. See col 'ID' in candidates table for valid ID options\")\n",
    "        \n",
    "    # if refunds = True, return contribution list with refunds; else exclude refunds\n",
    "    if refunds:\n",
    "        return contributions[contributions['RECIPID'] == id]\n",
    "    else:\n",
    "        return contributions[(contributions['RECIPID'] == id) & (contributions['AMNT'] > 0)]"
   ]
  },
  {
   "cell_type": "code",
   "execution_count": 15,
   "metadata": {},
   "outputs": [],
   "source": [
    "def get_unique_contributors(id):\n",
    "    if id not in candidates['ID'].values:\n",
    "        raise ValueError(\"Not a valid candidate ID. See col 'ID' in candidates table for valid ID options\")\n",
    "    else:\n",
    "        data = get_contributions(id)\n",
    "        \n",
    "    return data['NAME'].str.lower().unique()"
   ]
  },
  {
   "cell_type": "code",
   "execution_count": 16,
   "metadata": {},
   "outputs": [],
   "source": [
    "# returns all rows of expenditures for a particular candidate from the expenditures table\n",
    "def get_expenditures(id, refunds=True):\n",
    "    if id not in candidates['ID'].values:\n",
    "        raise ValueError(\"Not a valid candidate ID. See col 'ID' in candidates table for valid ID options\")\n",
    "        \n",
    "    # if refunds = True, return expenditure list with refunds; else exclude refunds\n",
    "    if refunds:\n",
    "        return expenditures[expenditures['CANDID'] == id]\n",
    "    else:\n",
    "        return expenditures[(expenditures['CANDID'] == id) & (expenditures['AMNT'] > 0)]"
   ]
  },
  {
   "cell_type": "code",
   "execution_count": 17,
   "metadata": {},
   "outputs": [],
   "source": [
    "# returns contribution types breakdown (including db from individual contributions)\n",
    "def get_contribution_types(data=None, id=None):\n",
    "    if data is None and id is None:\n",
    "        raise ValueError('Must pass either a pandas dataframe containing contributions or candidate id')\n",
    "    if id != None:\n",
    "        data = get_contributions(id)\n",
    "    breakdown = {}\n",
    "    types = {'candidate': 'CAN',\n",
    "            'corporation': 'CORP',\n",
    "            'labor_union': 'EMPO',\n",
    "            'candidate_family': 'FAM',\n",
    "            'individual': 'IND',\n",
    "            'llc': 'LLC',\n",
    "            'other': 'OTHR',\n",
    "            'partnership': 'PART',\n",
    "            'candidate_committee': 'PCOMC',\n",
    "            'pac': 'PCOMP',\n",
    "            'party': 'PCOMZ',\n",
    "            'candidate_spouse': 'SPO',\n",
    "            'unknown': 'UNKN'\n",
    "            }\n",
    "    \n",
    "    for key, value in types.items():\n",
    "        breakdown[key] = data[data['C_CODE'].str.contains(value, case=False, na=False)]\n",
    "    \n",
    "    return breakdown"
   ]
  },
  {
   "cell_type": "code",
   "execution_count": 18,
   "metadata": {},
   "outputs": [],
   "source": [
    "# returns a dict separating contributions by contributor borough contribution location breakdown\n",
    "def get_contribution_locations(data=None, id=None):\n",
    "    if data is None and id is None:\n",
    "        raise ValueError('Must pass either a pandas dataframe containing contributions or candidate id')\n",
    "    if id != None:\n",
    "        data = get_contributions(id)\n",
    "    breakdown = {}\n",
    "    types = {'manhattan': ['m'], \n",
    "             'bronx': ['x'], \n",
    "             'queens': ['q'], \n",
    "             'staten_island': ['s'], \n",
    "             'brooklyn': ['k'], \n",
    "             'outside_nyc': ['z'], \n",
    "             'all_nyc': ['m', 'k', 'x', 'q', 's']}\n",
    "    \n",
    "    for key, value in types.items():\n",
    "        breakdown[key] = data[data['BOROUGHCD'].str.lower().isin(value)]\n",
    "    \n",
    "    return breakdown"
   ]
  },
  {
   "cell_type": "code",
   "execution_count": 19,
   "metadata": {},
   "outputs": [],
   "source": [
    "# returns (estimated) contributions from specified industry\n",
    "# can either pass in the data directly or a candidate ID; note passing in candidate ID will override data\n",
    "# options for industry: 'law_enforcement', 'education', 'finance', 'healthcare', 'retired', 'real_estate'\n",
    "\n",
    "# Law enforcement: includes any police department, corrections facilities/officers, US military\n",
    "# Education: includes all students, educators, and any individual employed by an educational institution or NYCDOE\n",
    "# Health care: includes all medical practicioners and adjacent professions, and all individuals employed by healthcare and public health institutions. Excludes individuals in the health insurance or health law industries\n",
    "# Retired: includes all individuals who self-identified as retired\n",
    "# Student: includes all individuals who self-identified as students\n",
    "# Finance: includes all bankers, venture capitalists, traders, financial advisors, and all individuals employed by a bank, investment bank, private equity firm, or venture capital firm\n",
    "\n",
    "def get_contribution_industries(data=None, id=None):\n",
    "    if data is None and id is None:\n",
    "        raise ValueError('Must pass either a pandas dataframe containing contributions or candidate id')\n",
    "    if id != None:\n",
    "        data = get_contributions(id)\n",
    "    breakdown = {}\n",
    "    types = {'law_enforcement': '(NYPD)|(military)|(police)|((?<!Salvation )army)|(air force)|(?<!Old )navy(?! yard)|(marine corps)|(correction)|(court officer)|(NYCDOC)|(NYC-DOC)|(NYC DOC)|(DOCC)|(^DOD$)|(of Defense)|(correction officer)|(sheriff)',\n",
    "             'education': '(academy)|(DOE)|(Board of Education)|(school(?! construction authority))|(student)|(teacher)|(professor)|(university)|(college)',\n",
    "             'finance': 'capital|(?<!ad)venture|(?<!reserve )(?<!coldwell)(?<!mil)(?<!world)bank(?! street)|goldman|morgan(?! lewis)(?! library)|lynch|barclays|UBS |^UBS$|bridgewater|two sigma|elliott management|blackrock|D[. ]*E[. ]*Shaw|investment bank|(?<!coldwell)(?<!coldwell )banker|^investment bank|financial advis[oe]r|hedge fund(?!s care)|private equity|private equity|trader(?! joe)',\n",
    "             'healthcare': '(nurse(?!ry))|(physician)|((?<!post)(?<!post )(?<!post-)doctor)|(hospital(?!ity))|((?<!massage )(?<!massage)therapist)|(medical)|^RN$|^MD$|(DOHMH)|(NY[CS]+[ ]*DOH)|(NYC[ ]*H&H)|((?<!energizing )health(?! insurance)(?!insurance)(?! plan)(?!plan)(?!care)(?! care)(?! crisis)(?! law)(?!y))|(dental)|(dentist)|(pediatric)|(cardiolog)|(surgeon)|(surgery)|(dermatolog)|(neurolog)|(ophthalmolog)|(oncolog)|(patholog)|(physiatrict)|(psychiatr)|(radiolog)',\n",
    "             'retired': '^[ ]*retired[ ]*$',\n",
    "             'student': '^[ ]*student[ ]*$'\n",
    "            }\n",
    "    \n",
    "    for key, value in types.items():\n",
    "        breakdown[key] = data[(data['EMPNAME'].str.contains(value, case=False, na=False)) | (data['OCCUPATION'].str.contains(value, case=False, na=False))]\n",
    "    \n",
    "    return breakdown "
   ]
  },
  {
   "cell_type": "code",
   "execution_count": 20,
   "metadata": {},
   "outputs": [],
   "source": [
    "#returns expenditure types breakdown\n",
    "def get_expenditure_types(data=None, id=None):\n",
    "    if data is None and id is None:\n",
    "        raise ValueError('Must pass either a pandas dataframe containing expenditures or candidate id')\n",
    "    if id != None:\n",
    "        data = get_expenditures(id)\n",
    "    breakdown = {}\n",
    "    types = {'advance_repayment': 'ADVAN',\n",
    "            'mailers': 'CMAIL',\n",
    "            'misc': 'CMISC',\n",
    "            'political_contrib': 'CONTRB',\n",
    "            'compliance': 'COMPL',\n",
    "            'consulting': 'CONSL',\n",
    "            'constituent_services': 'CONSV',\n",
    "            'fundraising': 'FUNDR',\n",
    "            'interest': 'INTER',\n",
    "            'literature': 'LITER',\n",
    "            'non_qualified_expenditures': 'NQUAL',\n",
    "            'office': 'OFFCE',\n",
    "            'other': 'OTHER',\n",
    "            'petitioning': 'PETIT',\n",
    "            'polling': 'POLLS',\n",
    "            'postage': 'POSTA',\n",
    "            'printing': 'PRINT',\n",
    "            'professional_services': 'PROFL',\n",
    "            'radio': 'RADIO',\n",
    "            'tv': 'TVADS',\n",
    "            'unknown': 'UNKN',\n",
    "            'voter_reg': 'VOTER',\n",
    "            'wages': 'WAGES'\n",
    "            }\n",
    "    \n",
    "    for key, value in types.items():\n",
    "        breakdown[key] = data[data['PURPOSECD'].str.contains(value, case=False, na=False)]\n",
    "    \n",
    "    return breakdown "
   ]
  },
  {
   "cell_type": "code",
   "execution_count": 21,
   "metadata": {},
   "outputs": [],
   "source": [
    "# returns expenditure location breakdown\n",
    "def get_expenditure_locations(data=None, id=None):\n",
    "    if data is None and id is None:\n",
    "        raise ValueError('Must pass either a pandas dataframe containing expenditures or candidate id')\n",
    "    if id != None:\n",
    "        data = get_expenditures(id)\n",
    "    breakdown = {}\n",
    "    types = {'brooklyn': ['brooklyn'],\n",
    "             'queens': ['queens', 'far rockaway', 'ozone park', 'woodside', 'howard beach', 'college pt', 'ridgewood', 'long island city', 'astoria', 'forest hills', 'rego park', 'jamaica', 'flushing', 'east elmuhrst', 'east elmhurst', 'bayside', 'maspeth', 'whitestone', 'jackson heights', 'sunnyside', 'little neck'],\n",
    "             'bronx': ['bronx', 'the bronx'],\n",
    "             'manhattan': ['new york', 'nueva york'],\n",
    "             'staten_island': ['staten island', 'staten islan4'],\n",
    "            }\n",
    "    types['all_nyc'] = types['brooklyn'] + types['queens'] + types['bronx'] + types['manhattan'] + types['staten_island']\n",
    "    \n",
    "    for key, value in types.items():\n",
    "        breakdown[key] = data[data['CITY'].str.lower().isin(value)]\n",
    "    \n",
    "    breakdown['outside_nyc'] = data[~data['CITY'].str.lower().isin(value)]\n",
    "    \n",
    "    return breakdown"
   ]
  },
  {
   "cell_type": "code",
   "execution_count": 22,
   "metadata": {},
   "outputs": [],
   "source": [
    "# takes a dictionary as input, and returns a dict with the same keys but length of the original values\n",
    "\n",
    "def get_type_count(dict):\n",
    "    count = {}\n",
    "    \n",
    "    for key, values in dict:\n",
    "        count[key] = len(values)\n",
    "        \n",
    "    return count"
   ]
  },
  {
   "cell_type": "code",
   "execution_count": 23,
   "metadata": {},
   "outputs": [],
   "source": [
    "# takes a dictionary as input, and returns a dict with the same keys but the sum of the contributions as values\n",
    "\n",
    "def get_type_sum(dict):\n",
    "    count = {}\n",
    "    \n",
    "    for key, values in dict:\n",
    "        count[key] = values['AMNT'].sum()\n",
    "        \n",
    "    return count"
   ]
  },
  {
   "cell_type": "markdown",
   "metadata": {},
   "source": [
    "### Generating candidate-level metrics\n"
   ]
  },
  {
   "cell_type": "code",
   "execution_count": 24,
   "metadata": {},
   "outputs": [],
   "source": [
    "# generated a MultiIndex object that will be used as column names in the final metrics df\n",
    "col_names = [['Overview'] * 12 \n",
    "         + ['Contribution Types: Raw Amounts'] * 13 \n",
    "         + ['Contribution Types: % of Total Contributions'] * 13 \n",
    "         + ['Contribution Types: Contributors'] * 13\n",
    "         + ['Contribution Locations: Raw Amounts'] * 7\n",
    "         + ['Contribution Locations: % of Total Contributions'] * 7\n",
    "         + ['Contribution Locations: Contributors'] * 7\n",
    "         + ['Contribution Industries: Raw Amounts'] * 6\n",
    "         + ['Contribution Industries: % of Total Contributions'] * 6\n",
    "         + ['Contribution Industries: Contributors'] * 6\n",
    "         + ['Expenditure Locations: Raw Amounts'] * 7\n",
    "         + ['Expenditure Locations: % of Total Expenditures'] * 7\n",
    "         + ['Expenditure Types: Raw Amounts'] * 23\n",
    "         + ['Expenditure Types: % of Total Expenditures'] * 23,\n",
    "         ['Candidate', 'Public Financing Status', 'Office', 'Option', 'ID', 'Small Campaign', 'Terminated', 'Total Amount Raised', 'Total Contributors', 'Average Contribution', 'Total Expenditures', 'Cash On Hand'] \n",
    "         + ['candidate', 'corporation', 'labor_union', 'candidate_family', 'individual', 'llc', 'other', 'partnership', 'candidate_committee', 'pac', 'party', 'candidate_spouse', 'unknown'] * 3\n",
    "         + ['manhattan', 'bronx', 'queens', 'staten_island', 'brooklyn', 'outside_nyc', 'all_nyc'] * 3\n",
    "         + ['law_enforcement', 'education', 'finance', 'healthcare', 'retired', 'student'] * 3\n",
    "         + ['manhattan', 'bronx', 'queens', 'staten_island', 'brooklyn', 'outside_nyc', 'all_nyc'] * 2\n",
    "         + ['advance_repayment', 'mailers', 'misc', 'political_contrib', 'compliance', 'consulting', 'constituent_services', 'fundraising', 'interest', 'literature', 'non_qualified_expenditures', 'office', 'other', 'petitioning', 'polling', 'postage', 'printing', 'professional_services', 'radio', 'tv', 'unknown', 'voter_reg', 'wages'] * 2\n",
    "        ]\n",
    "\n",
    "col_index = pd.MultiIndex.from_arrays(col_names)"
   ]
  },
  {
   "cell_type": "code",
   "execution_count": 25,
   "metadata": {},
   "outputs": [],
   "source": [
    "# create new df to store candidate fundraising metrics\n",
    "candidate_metrics = pd.DataFrame(columns=col_index)\n",
    "\n",
    "# copy over the overview data from the candidates table\n",
    "for i in candidates.columns:\n",
    "    candidate_metrics.loc[:,('Overview', i)] = candidates[i]"
   ]
  },
  {
   "cell_type": "code",
   "execution_count": 26,
   "metadata": {},
   "outputs": [
    {
     "name": "stderr",
     "output_type": "stream",
     "text": [
      "/usr/local/Cellar/jupyterlab/2.1.5/libexec/lib/python3.8/site-packages/pandas/core/strings.py:1954: UserWarning: This pattern has match groups. To actually get the groups, use str.extract.\n",
      "  return func(self, *args, **kwargs)\n"
     ]
    }
   ],
   "source": [
    "for i, row in candidate_metrics.iterrows():\n",
    "    # get overview contribution/expenditure rows per candidate\n",
    "    all_contributions = get_contributions(row[('Overview', 'ID')])\n",
    "    #all_contributions_excluding_refunds = get_contributions(row[('Overview', 'ID')],refunds=False)\n",
    "    uq_contributions = get_unique_contributors(row[('Overview', 'ID')])\n",
    "    \n",
    "    all_expenditures = get_expenditures(row[('Overview', 'ID')])\n",
    "    #all_expenditures_excluding_refunds = get_expenditures(row[('Overview', 'ID')], refunds=False)\n",
    "    \n",
    "    # populate columns in overview metrics\n",
    "    if all_contributions.empty or (uq_contributions.size == 0):\n",
    "        candidate_metrics.loc[i, ('Overview', 'Total Amount Raised')] = 0\n",
    "        candidate_metrics.loc[i, ('Overview', 'Total Contributors')] = 0\n",
    "        candidate_metrics.loc[i, ('Overview', 'Average Contributions')] = 0\n",
    "    else:\n",
    "        candidate_metrics.loc[i, ('Overview', 'Total Amount Raised')] = all_contributions['AMNT'].sum()\n",
    "        candidate_metrics.loc[i, ('Overview', 'Total Contributors')] = len(uq_contributions)\n",
    "        candidate_metrics.loc[i, ('Overview', 'Average Contribution')] = round(float(candidate_metrics.loc[i, ('Overview', 'Total Amount Raised')]) / float(candidate_metrics.loc[i, ('Overview', 'Total Contributors')]), 2)\n",
    "    \n",
    "    if all_expenditures.empty:\n",
    "        candidate_metrics.loc[i, ('Overview', 'Total Expenditures')] = 0\n",
    "    else:\n",
    "        candidate_metrics.loc[i, ('Overview', 'Total Expenditures')] = all_expenditures['AMNT'].sum()\n",
    "    \n",
    "    candidate_metrics.loc[i, ('Overview', 'Cash On Hand')] = candidate_metrics.loc[i, ('Overview', 'Total Amount Raised')] - candidate_metrics.loc[i, ('Overview', 'Total Expenditures')]\n",
    "    \n",
    "    # these for loops below can *probably* be refactored to something simpler / more readable\n",
    "    # get contribution types, locations, and industries\n",
    "    contribution_types = get_contribution_types(all_contributions)\n",
    "    contribution_locations = get_contribution_locations(all_contributions)\n",
    "    contribution_industries = get_contribution_industries(all_contributions)\n",
    "    \n",
    "    # populate columns in contribution type metrics\n",
    "    for j, k in contribution_types.items():\n",
    "        if k.empty:\n",
    "            candidate_metrics.loc[i, ('Contribution Types: Raw Amounts', j)] = 0\n",
    "        else:\n",
    "            candidate_metrics.loc[i, ('Contribution Types: Raw Amounts', j)] = k['AMNT'].sum()\n",
    "            \n",
    "        if candidate_metrics.loc[i, ('Overview', 'Total Amount Raised')] == 0:\n",
    "            candidate_metrics.loc[i, ('Contribution Types: % of Total Contributions', j)] = '0%'\n",
    "        else: \n",
    "            candidate_metrics.loc[i, ('Contribution Types: % of Total Contributions', j)] = str(round(candidate_metrics.loc[i, ('Contribution Types: Raw Amounts', j)] / candidate_metrics.loc[i, ('Overview', 'Total Amount Raised')] * 100, 2)) + '%'\n",
    "        candidate_metrics.loc[i, ('Contribution Types: Contributors', j)] = len(k['NAME'].unique())\n",
    "        \n",
    "    # populate columns in contribution location metrics\n",
    "    for j, k in contribution_locations.items():\n",
    "        if k.empty:\n",
    "            candidate_metrics.loc[i, ('Contribution Locations: Raw Amounts', j)] = 0\n",
    "        else:\n",
    "            candidate_metrics.loc[i, ('Contribution Locations: Raw Amounts', j)] = k['AMNT'].sum()\n",
    "        if candidate_metrics.loc[i, ('Overview', 'Total Amount Raised')] == 0:\n",
    "            candidate_metrics.loc[i, ('Contribution Locations: % of Total Contributions', j)] = '0%'\n",
    "        else: \n",
    "            candidate_metrics.loc[i, ('Contribution Locations: % of Total Contributions', j)] = str(round(candidate_metrics.loc[i, ('Contribution Locations: Raw Amounts', j)] / candidate_metrics.loc[i, ('Overview', 'Total Amount Raised')] * 100, 2)) + '%'\n",
    "        candidate_metrics.loc[i, ('Contribution Locations: Contributors', j)] = len(k['NAME'].unique())\n",
    "   \n",
    "    # populate columns in contribution industry metrics\n",
    "    for j, k in contribution_industries.items():\n",
    "        if k.empty:\n",
    "            candidate_metrics.loc[i, ('Contribution Industries: Raw Amounts', j)] = 0\n",
    "        else:\n",
    "            candidate_metrics.loc[i, ('Contribution Industries: Raw Amounts', j)] = k['AMNT'].sum()\n",
    "            \n",
    "        if candidate_metrics.loc[i, ('Overview', 'Total Amount Raised')] == 0:\n",
    "            candidate_metrics.loc[i, ('Contribution Industries: % of Total Contributions', j)] = '0%'\n",
    "        else: \n",
    "            candidate_metrics.loc[i, ('Contribution Industries: % of Total Contributions', j)] = str(round(candidate_metrics.loc[i, ('Contribution Industries: Raw Amounts', j)] / candidate_metrics.loc[i, ('Overview', 'Total Amount Raised')] * 100, 2)) + '%'\n",
    "        candidate_metrics.loc[i, ('Contribution Industries: Contributors', j)] = len(k['NAME'].unique())\n",
    "    \n",
    "    # get expenditure location and types\n",
    "    # all expenditures for locations to capture refunds accurately for NYC vs non-NYC expenditures\n",
    "    expenditure_locations = get_expenditure_locations(all_expenditures)\n",
    "    expenditure_types = get_expenditure_types(all_expenditures)\n",
    "    \n",
    "    # populate columns in expenditure location metrics\n",
    "    for j, k in expenditure_locations.items():\n",
    "        if k.empty:\n",
    "            candidate_metrics.loc[i, ('Expenditure Locations: Raw Amounts', j)] = 0\n",
    "        else:\n",
    "            candidate_metrics.loc[i, ('Expenditure Locations: Raw Amounts', j)] = k['AMNT'].sum()\n",
    "            \n",
    "        if candidate_metrics.loc[i, ('Overview', 'Total Expenditures')] == 0:\n",
    "            candidate_metrics.loc[i, ('Expenditure Locations: % of Total Expenditures', j)] = '0%'\n",
    "        else: \n",
    "            candidate_metrics.loc[i, ('Expenditure Locations: % of Total Expenditures', j)] = str(round(candidate_metrics.loc[i, ('Expenditure Locations: Raw Amounts', j)] / candidate_metrics.loc[i, ('Overview', 'Total Expenditures')] * 100, 2)) + '%'\n",
    "   \n",
    "    # populate columns in expenditure type metrics\n",
    "    for j, k in expenditure_types.items():\n",
    "        if k.empty:\n",
    "            candidate_metrics.loc[i, ('Expenditure Types: Raw Amounts', j)] = 0\n",
    "        else:\n",
    "            candidate_metrics.loc[i, ('Expenditure Types: Raw Amounts', j)] = k['AMNT'].sum()\n",
    "            \n",
    "        if candidate_metrics.loc[i, ('Overview', 'Total Expenditures')] == 0:\n",
    "            candidate_metrics.loc[i, ('Expenditure Types: % of Total Expenditures', j)] = '0%'\n",
    "        else: \n",
    "            candidate_metrics.loc[i, ('Expenditure Types: % of Total Expenditures', j)] = str(round(candidate_metrics.loc[i, ('Expenditure Types: Raw Amounts', j)] / candidate_metrics.loc[i, ('Overview', 'Total Expenditures')] * 100, 2)) + '%'"
   ]
  },
  {
   "cell_type": "markdown",
   "metadata": {},
   "source": [
    "## Export Data"
   ]
  },
  {
   "cell_type": "code",
   "execution_count": 27,
   "metadata": {},
   "outputs": [],
   "source": [
    "candidate_metrics.to_csv('2021 NYC Candidate Metrics.csv')"
   ]
  }
 ],
 "metadata": {
  "kernelspec": {
   "display_name": "Python 3",
   "language": "python",
   "name": "python3"
  },
  "language_info": {
   "codemirror_mode": {
    "name": "ipython",
    "version": 3
   },
   "file_extension": ".py",
   "mimetype": "text/x-python",
   "name": "python",
   "nbconvert_exporter": "python",
   "pygments_lexer": "ipython3",
   "version": "3.8.3"
  }
 },
 "nbformat": 4,
 "nbformat_minor": 4
}
